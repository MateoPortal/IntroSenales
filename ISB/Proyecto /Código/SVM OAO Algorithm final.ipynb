{
 "cells": [
  {
   "cell_type": "markdown",
   "id": "dec03cab-09e7-4c9d-8d8a-c0021dbc9176",
   "metadata": {},
   "source": [
    "# SVM ALGORITHM FOR LBBB DETECTION"
   ]
  },
  {
   "cell_type": "code",
   "execution_count": 23,
   "id": "14f3b0a7-9b39-4e3f-a5c1-36216b2f33ed",
   "metadata": {
    "tags": []
   },
   "outputs": [],
   "source": [
    "import numpy as np\n",
    "import matplotlib.pyplot as plt\n",
    "\n",
    "NormalBeats_LeadI = np.load('array_Normal_beats_leadI.npy')\n",
    "LBBBBeats_LeadI = np.load('array_LBBB_beats_leadI.npy')\n",
    "AtrialFibBeats_LeadI = np.load('array_AtrialFib_beats_leadI.npy')\n",
    "\n",
    "\n",
    "#Data for testing\n",
    "LBBBBeats_LeadI_test = np.load('array_LBBB_beats_leadI_test.npy') #Dataset\n",
    "LBBBBeats_LeadI_Bitalino_test = np.load('array_LBBB_beats_leadI_test_Bitalino_versionlarga.npy') #Bitalino\n"
   ]
  },
  {
   "cell_type": "markdown",
   "id": "e9050c9f-1895-4cd5-b597-5d768f61bacc",
   "metadata": {},
   "source": [
    "## FEATURE EXTRACTION"
   ]
  },
  {
   "cell_type": "code",
   "execution_count": 24,
   "id": "75d86043-98d2-4655-9feb-2cfd2142ff40",
   "metadata": {},
   "outputs": [],
   "source": [
    "from sklearn.model_selection import train_test_split\n",
    "from sklearn.svm import SVC\n",
    "from sklearn.multiclass import OneVsOneClassifier\n",
    "from sklearn.metrics import accuracy_score, precision_score, recall_score, f1_score\n",
    "from scipy.stats import skew, kurtosis, median_abs_deviation\n",
    "import pywt\n",
    "\n",
    "#Defino funcion para la extraccion de caracteristicas\n",
    "def extract_features(data):\n",
    "    features = []\n",
    "    for beat in data:\n",
    "        \"\"\" WAVELET TRANSFORM \"\"\" # EXTRACCION DE CARACTERISTICAS (WAVELET DECOMPOSITION): db4, nivel 1 (minimo nivel y el que me da la mejor caracterizacion de un beat de ecg)\n",
    "        wav_coef = pywt.wavedec(beat, wavelet, level = level); #retorno de coeficiente de aproximacion (approx coeff son los primeros) y coeficientes de detalle (detail coeff son los segundos)\n",
    "        features.append([np.sqrt(np.mean(np.square(wav_coef[0]))), np.linalg.norm(wav_coef[0],ord=2), np.linalg.norm(wav_coef[0],ord=1), np.max(wav_coef[0]), np.min(wav_coef[0]), np.mean(wav_coef[0]), np.var(wav_coef[0]), np.std(wav_coef[0]), skew(wav_coef[0]), kurtosis(wav_coef[0]), np.ptp(wav_coef[0]), np.cov(wav_coef[0]), np.corrcoef(wav_coef[0]), np.quantile(wav_coef[0], 0.5), np.percentile(wav_coef[0], 50), median_abs_deviation(wav_coef[0]), np.sqrt(np.mean(np.square(wav_coef[1]))), np.linalg.norm(wav_coef[1],ord=2), np.linalg.norm(wav_coef[1],ord=1), np.max(wav_coef[1]), np.min(wav_coef[1]), np.mean(wav_coef[1]), np.var(wav_coef[1]), np.std(wav_coef[1]), skew(wav_coef[1]), kurtosis(wav_coef[1]), np.ptp(wav_coef[1]), np.cov(wav_coef[1]), np.corrcoef(wav_coef[1]), np.quantile(wav_coef[1], 0.5), np.percentile(wav_coef[1], 50), median_abs_deviation(wav_coef[1])])\n",
    "\n",
    "    return np.array(features)\n",
    "\n",
    "wavelet = 'db4'\n",
    "level = 1\n",
    "\n",
    "# Extraccion de caracteristicas de cada tipo de beat\n",
    "NormalBeats_LeadI_features = extract_features(NormalBeats_LeadI)\n",
    "LBBBBeats_LeadI_features = extract_features(LBBBBeats_LeadI)\n",
    "AtrialFibBeats_LeadI_features = extract_features(AtrialFibBeats_LeadI)"
   ]
  },
  {
   "cell_type": "markdown",
   "id": "5330cb34-4fc5-4855-9650-39e7bbac4412",
   "metadata": {},
   "source": [
    "## SVM ALGORITHM "
   ]
  },
  {
   "cell_type": "code",
   "execution_count": 25,
   "id": "bf8dfa08-f8d8-4c98-b89d-163832109bd1",
   "metadata": {},
   "outputs": [
    {
     "name": "stdout",
     "output_type": "stream",
     "text": [
      "Accuracy: 0.8254364089775561\n",
      "Precision por clase: [0.752      0.98387097 0.75657895]\n",
      "Precision promedio: 0.8259232902463705\n",
      "Recall por clase: [0.71212121 0.976      0.79861111]\n",
      "Recall promedio: 0.8254364089775561\n",
      "F1 Score por clase: [0.73151751 0.97991968 0.77702703]\n",
      "F1 Score promedio: 0.8252921770955012\n"
     ]
    }
   ],
   "source": [
    "\"\"\" SVM ALGORITHM \"\"\"\n",
    "\n",
    "''' LABELS '''\n",
    "NormalBeats_LeadI_labels = np.zeros(len(NormalBeats_LeadI_features))\n",
    "LBBBBeats_LeadI_labels = np.ones(len(LBBBBeats_LeadI_features))\n",
    "AtrialFibBeats_LeadI_labels = np.full(len(AtrialFibBeats_LeadI_features), 2)\n",
    "\n",
    "# Concateno caracteristicas y labels\n",
    "features = np.concatenate((NormalBeats_LeadI_features, LBBBBeats_LeadI_features, AtrialFibBeats_LeadI_features), axis=0)\n",
    "labels = np.concatenate((NormalBeats_LeadI_labels, LBBBBeats_LeadI_labels, AtrialFibBeats_LeadI_labels), axis=0)\n",
    "\n",
    "''' SPLITING THE DATA '''\n",
    "X_train, X_test, y_train, y_test = train_test_split(features, labels, test_size=0.15, random_state = 42)\n",
    "\n",
    "''' Training '''\n",
    "svm = OneVsOneClassifier(SVC(C = 1000, kernel='linear', decision_function_shape='ovo'))\n",
    "\n",
    "# Entrenando el clasificador\n",
    "svm.fit(X_train, y_train)\n",
    "\n",
    "# Prediccion con el set de testeo\n",
    "y_pred = svm.predict(X_test)\n",
    "\n",
    "# Accuracy\n",
    "accuracy = accuracy_score(y_test, y_pred)\n",
    "print(\"Accuracy:\", accuracy)\n",
    "\n",
    "precision_per_label = precision_score(y_test, y_pred, average=None)\n",
    "precision_av = precision_score(y_test, y_pred, average=\"weighted\")\n",
    "print(\"Precision por clase:\", precision_per_label)\n",
    "print(\"Precision promedio:\", precision_av)\n",
    "\n",
    "recall_per_label = recall_score(y_test, y_pred, average=None) #Sensitivity \n",
    "recall_av = recall_score(y_test, y_pred, average=\"weighted\") #Sensitivity \n",
    "print(\"Recall por clase:\", recall_per_label)\n",
    "print(\"Recall promedio:\", recall_av)\n",
    "\n",
    "f1_per_label = f1_score(y_test, y_pred, average=None)\n",
    "f1_av = f1_score(y_test, y_pred, average=\"weighted\")\n",
    "print(\"F1 Score por clase:\", f1_per_label)\n",
    "print(\"F1 Score promedio:\", f1_av)\n",
    "\n"
   ]
  },
  {
   "cell_type": "markdown",
   "id": "44812ecc-fd5c-4a01-8b51-bd00720793a8",
   "metadata": {},
   "source": [
    "## TESTING THE SVM ALGORITHM WITH LBBB DATASET"
   ]
  },
  {
   "cell_type": "code",
   "execution_count": 26,
   "id": "bec5986a-dbe3-4c0c-b9ac-0664903a4353",
   "metadata": {},
   "outputs": [],
   "source": [
    "for test_beat in LBBBBeats_LeadI_test:\n",
    "    # Extraigo caracteristicas para cada beat\n",
    "    test_features = extract_features([test_beat])\n",
    "    \n",
    "    # Prediccion\n",
    "    prediction = svm.predict(test_features)\n",
    "    \n",
    "    # Determino etiquetas en palabras y ya no numericas\n",
    "    if prediction == 0:\n",
    "        label = \"Normal\"\n",
    "    elif prediction == 1:\n",
    "        label = \"LBBB\"\n",
    "    else:\n",
    "        label = \"AtrialFib\"\n",
    "    \n",
    "    #print(\"Predicted label:\", label);"
   ]
  },
  {
   "cell_type": "markdown",
   "id": "8153c727-07da-4ec8-81cc-87561482d69e",
   "metadata": {},
   "source": [
    "## TESTING THE SVM ALGORITHM WITH DATA ACQUIRED WITH BITALINO KIT"
   ]
  },
  {
   "cell_type": "code",
   "execution_count": 27,
   "id": "010fe46d-4c0b-4ba9-8baa-574c2dda2d5b",
   "metadata": {},
   "outputs": [
    {
     "name": "stdout",
     "output_type": "stream",
     "text": [
      "Predicted label: LBBB\n",
      "Predicted label: LBBB\n",
      "Predicted label: LBBB\n",
      "Predicted label: LBBB\n",
      "Predicted label: LBBB\n",
      "Predicted label: LBBB\n",
      "Predicted label: LBBB\n",
      "Predicted label: LBBB\n",
      "Predicted label: LBBB\n",
      "Predicted label: LBBB\n",
      "Predicted label: LBBB\n",
      "Predicted label: LBBB\n",
      "Predicted label: LBBB\n",
      "Predicted label: LBBB\n",
      "Predicted label: LBBB\n",
      "Predicted label: LBBB\n",
      "Predicted label: LBBB\n",
      "Predicted label: LBBB\n",
      "Predicted label: LBBB\n",
      "Predicted label: LBBB\n",
      "Predicted label: LBBB\n",
      "Predicted label: LBBB\n",
      "Predicted label: LBBB\n",
      "Predicted label: LBBB\n",
      "Predicted label: LBBB\n",
      "Predicted label: LBBB\n",
      "Predicted label: LBBB\n",
      "Predicted label: LBBB\n",
      "Predicted label: LBBB\n",
      "Predicted label: LBBB\n"
     ]
    }
   ],
   "source": [
    "for test_beat_Bit in LBBBBeats_LeadI_Bitalino_test:\n",
    "    test_features_Bit = extract_features([test_beat_Bit])\n",
    "    \n",
    "    prediction = svm.predict(test_features_Bit)\n",
    "    \n",
    "    if prediction == 0:\n",
    "        label = \"Normal\"\n",
    "    elif prediction == 1:\n",
    "        label = \"LBBB\"\n",
    "    else:\n",
    "        label = \"AtrialFib\"\n",
    "    \n",
    "    print(\"Predicted label:\", label);"
   ]
  },
  {
   "cell_type": "code",
   "execution_count": null,
   "id": "51ab5a48-beda-4f76-975d-64a2c3f65c95",
   "metadata": {},
   "outputs": [],
   "source": []
  }
 ],
 "metadata": {
  "kernelspec": {
   "display_name": "Python 3 (ipykernel)",
   "language": "python",
   "name": "python3"
  },
  "language_info": {
   "codemirror_mode": {
    "name": "ipython",
    "version": 3
   },
   "file_extension": ".py",
   "mimetype": "text/x-python",
   "name": "python",
   "nbconvert_exporter": "python",
   "pygments_lexer": "ipython3",
   "version": "3.11.4"
  }
 },
 "nbformat": 4,
 "nbformat_minor": 5
}
